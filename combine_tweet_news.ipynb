{
 "cells": [
  {
   "cell_type": "code",
   "execution_count": 1,
   "metadata": {},
   "outputs": [],
   "source": [
    "import csv"
   ]
  },
  {
   "cell_type": "code",
   "execution_count": 5,
   "metadata": {},
   "outputs": [
    {
     "name": "stdout",
     "output_type": "stream",
     "text": [
      "3100\n"
     ]
    }
   ],
   "source": [
    "with open('clean_tweet_800000.csv', 'r') as inp, open('test_example.csv', 'a', encoding='utf-8') as out:\n",
    "    writer = csv.writer(out)\n",
    "    count = 0\n",
    "    for row in csv.reader(inp):\n",
    "        x = row[0].strip()\n",
    "        if not x:\n",
    "            x = 0;\n",
    "## clean tweet 800000\n",
    "        if row[2] == 'Positive' and int(x) > 360000:\n",
    "            if 'gopdebat' in row[1]:\n",
    "                continue\n",
    "            if len(row[1]) > 30:\n",
    "                new_text = re.sub('|'.join(r'\\b%s\\b' % re.escape(s) for s in replacements), replace, row[1])\n",
    "                row[1] = new_text\n",
    "#                 print(row)\n",
    "                writer.writerow(row)\n",
    "                count = count + 1\n",
    "\n",
    "## airline\n",
    "#         if (row[2] == 'positive' or row[2] == 'neutral') and len(row[1]) > 25:\n",
    "#             row[2] = 'Positive'\n",
    "#             new_text = re.sub('|'.join(r'\\b%s\\b' % re.escape(s) for s in replacements), replace, row[1])\n",
    "#             row[1] = new_text\n",
    "#             print(row)\n",
    "#             count = count + 1\n",
    "#             writer.writerow(row)\n",
    "\n",
    "## text and self\n",
    "#         new_text = re.sub('|'.join(r'\\b%s\\b' % re.escape(s) for s in replacements), replace, row[1])\n",
    "#         new_text = new_text.replace('syrian', '')\n",
    "#         new_text = new_text.replace('sandy', '')\n",
    "#         new_text = new_text.replace('syria', '')\n",
    "#         new_text = new_text.replace('syrie', '')\n",
    "#         new_text = new_text.replace('california', '')\n",
    "        \n",
    "#         print(new_text)\n",
    "#         row[1] = new_text\n",
    "#         writer.writerow(row)\n",
    "#         count = count + 1\n",
    "        if count == 3100:\n",
    "            break\n",
    "    print(count)  \n",
    "\n",
    "#model 9\n",
    "#2394 negative news and tweets\n",
    "#3000 airline negative tweets\n",
    "#2506 negative normal tweets\n",
    "#4000 airline neutral/positive tweets\n",
    "#4000 positive normal tweets\n",
    "#3100 positive tweet(15901)\n"
   ]
  },
  {
   "cell_type": "code",
   "execution_count": 3,
   "metadata": {},
   "outputs": [],
   "source": [
    "import re\n",
    "replacements = {\n",
    "    'rt':'',\n",
    "    'syria':'',\n",
    "    'kenya':'',\n",
    "    'haiti':'',\n",
    "    'iran':'',\n",
    "    'iraq':'',\n",
    "    'portugal':'',\n",
    "    'earth':'',\n",
    "    'sandy':'',\n",
    "    'pic': '',\n",
    "    'pictures':'',\n",
    "    'photos':''\n",
    "}\n",
    "\n",
    "def replace(match):\n",
    "    return replacements[match.group(0)]\n",
    "\n",
    "# # notice that the 'this' in 'thistle' is not matched \n",
    "# print(re.sub('|'.join(r'\\b%s\\b' % re.escape(s) for s in replacements), \n",
    "#         replace, string))"
   ]
  },
  {
   "cell_type": "code",
   "execution_count": 6,
   "metadata": {},
   "outputs": [],
   "source": [
    "with open('self_negative_news.csv', 'r') as inp, open('test_example.csv', 'a', encoding='utf-8') as out:\n",
    "    writer = csv.writer(out)\n",
    "    count = 0\n",
    "    for row in csv.reader(inp):\n",
    "#         print(row)\n",
    "        writer.writerow(row)"
   ]
  },
  {
   "cell_type": "code",
   "execution_count": null,
   "metadata": {},
   "outputs": [],
   "source": []
  }
 ],
 "metadata": {
  "kernelspec": {
   "display_name": "Python 3",
   "language": "python",
   "name": "python3"
  },
  "language_info": {
   "codemirror_mode": {
    "name": "ipython",
    "version": 3
   },
   "file_extension": ".py",
   "mimetype": "text/x-python",
   "name": "python",
   "nbconvert_exporter": "python",
   "pygments_lexer": "ipython3",
   "version": "3.6.2"
  }
 },
 "nbformat": 4,
 "nbformat_minor": 2
}
