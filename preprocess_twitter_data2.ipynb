{
 "cells": [
  {
   "cell_type": "code",
   "execution_count": 2,
   "metadata": {},
   "outputs": [],
   "source": [
    "import pandas as pd  \n",
    "import numpy as np\n",
    "import matplotlib.pyplot as plt\n",
    "import re\n",
    "plt.style.use('fivethirtyeight')\n",
    "\n",
    "%matplotlib inline\n",
    "%config InlineBackend.figure_format = 'retina'"
   ]
  },
  {
   "cell_type": "code",
   "execution_count": 3,
   "metadata": {},
   "outputs": [],
   "source": [
    "cols = ['id','candidate','candidate_confidence','relevant_yn','relevant_yn_confidence','sentiment','sentiment_confidence','subject_matter','subject_matter_confidence','candidate_gold','name','relevant_yn_gold','retweet_count','sentiment_gold','subject_matter_gold','text','tweet_coord','tweet_created','tweet_id','tweet_location','user_timezone']"
   ]
  },
  {
   "cell_type": "code",
   "execution_count": 4,
   "metadata": {},
   "outputs": [],
   "source": [
    "df = pd.read_csv(\"Sentiment.csv\",header=None, names=cols, encoding = \"utf-8\")"
   ]
  },
  {
   "cell_type": "code",
   "execution_count": 5,
   "metadata": {},
   "outputs": [
    {
     "data": {
      "text/html": [
       "<div>\n",
       "<style scoped>\n",
       "    .dataframe tbody tr th:only-of-type {\n",
       "        vertical-align: middle;\n",
       "    }\n",
       "\n",
       "    .dataframe tbody tr th {\n",
       "        vertical-align: top;\n",
       "    }\n",
       "\n",
       "    .dataframe thead th {\n",
       "        text-align: right;\n",
       "    }\n",
       "</style>\n",
       "<table border=\"1\" class=\"dataframe\">\n",
       "  <thead>\n",
       "    <tr style=\"text-align: right;\">\n",
       "      <th></th>\n",
       "      <th>id</th>\n",
       "      <th>candidate</th>\n",
       "      <th>candidate_confidence</th>\n",
       "      <th>relevant_yn</th>\n",
       "      <th>relevant_yn_confidence</th>\n",
       "      <th>sentiment</th>\n",
       "      <th>sentiment_confidence</th>\n",
       "      <th>subject_matter</th>\n",
       "      <th>subject_matter_confidence</th>\n",
       "      <th>candidate_gold</th>\n",
       "      <th>...</th>\n",
       "      <th>relevant_yn_gold</th>\n",
       "      <th>retweet_count</th>\n",
       "      <th>sentiment_gold</th>\n",
       "      <th>subject_matter_gold</th>\n",
       "      <th>text</th>\n",
       "      <th>tweet_coord</th>\n",
       "      <th>tweet_created</th>\n",
       "      <th>tweet_id</th>\n",
       "      <th>tweet_location</th>\n",
       "      <th>user_timezone</th>\n",
       "    </tr>\n",
       "  </thead>\n",
       "  <tbody>\n",
       "    <tr>\n",
       "      <th>0</th>\n",
       "      <td>id</td>\n",
       "      <td>candidate</td>\n",
       "      <td>candidate_confidence</td>\n",
       "      <td>relevant_yn</td>\n",
       "      <td>relevant_yn_confidence</td>\n",
       "      <td>sentiment</td>\n",
       "      <td>sentiment_confidence</td>\n",
       "      <td>subject_matter</td>\n",
       "      <td>subject_matter_confidence</td>\n",
       "      <td>candidate_gold</td>\n",
       "      <td>...</td>\n",
       "      <td>relevant_yn_gold</td>\n",
       "      <td>retweet_count</td>\n",
       "      <td>sentiment_gold</td>\n",
       "      <td>subject_matter_gold</td>\n",
       "      <td>text</td>\n",
       "      <td>tweet_coord</td>\n",
       "      <td>tweet_created</td>\n",
       "      <td>tweet_id</td>\n",
       "      <td>tweet_location</td>\n",
       "      <td>user_timezone</td>\n",
       "    </tr>\n",
       "    <tr>\n",
       "      <th>1</th>\n",
       "      <td>1</td>\n",
       "      <td>No candidate mentioned</td>\n",
       "      <td>1.0</td>\n",
       "      <td>yes</td>\n",
       "      <td>1.0</td>\n",
       "      <td>Neutral</td>\n",
       "      <td>0.6578</td>\n",
       "      <td>None of the above</td>\n",
       "      <td>1.0</td>\n",
       "      <td>NaN</td>\n",
       "      <td>...</td>\n",
       "      <td>NaN</td>\n",
       "      <td>5</td>\n",
       "      <td>NaN</td>\n",
       "      <td>NaN</td>\n",
       "      <td>RT @NancyLeeGrahn: How did everyone feel about...</td>\n",
       "      <td>NaN</td>\n",
       "      <td>2015-08-07 09:54:46 -0700</td>\n",
       "      <td>629697200650592256</td>\n",
       "      <td>NaN</td>\n",
       "      <td>Quito</td>\n",
       "    </tr>\n",
       "    <tr>\n",
       "      <th>2</th>\n",
       "      <td>2</td>\n",
       "      <td>Scott Walker</td>\n",
       "      <td>1.0</td>\n",
       "      <td>yes</td>\n",
       "      <td>1.0</td>\n",
       "      <td>Positive</td>\n",
       "      <td>0.6333</td>\n",
       "      <td>None of the above</td>\n",
       "      <td>1.0</td>\n",
       "      <td>NaN</td>\n",
       "      <td>...</td>\n",
       "      <td>NaN</td>\n",
       "      <td>26</td>\n",
       "      <td>NaN</td>\n",
       "      <td>NaN</td>\n",
       "      <td>RT @ScottWalker: Didn't catch the full #GOPdeb...</td>\n",
       "      <td>NaN</td>\n",
       "      <td>2015-08-07 09:54:46 -0700</td>\n",
       "      <td>629697199560069120</td>\n",
       "      <td>NaN</td>\n",
       "      <td>NaN</td>\n",
       "    </tr>\n",
       "    <tr>\n",
       "      <th>3</th>\n",
       "      <td>3</td>\n",
       "      <td>No candidate mentioned</td>\n",
       "      <td>1.0</td>\n",
       "      <td>yes</td>\n",
       "      <td>1.0</td>\n",
       "      <td>Neutral</td>\n",
       "      <td>0.6629</td>\n",
       "      <td>None of the above</td>\n",
       "      <td>0.6629</td>\n",
       "      <td>NaN</td>\n",
       "      <td>...</td>\n",
       "      <td>NaN</td>\n",
       "      <td>27</td>\n",
       "      <td>NaN</td>\n",
       "      <td>NaN</td>\n",
       "      <td>RT @TJMShow: No mention of Tamir Rice and the ...</td>\n",
       "      <td>NaN</td>\n",
       "      <td>2015-08-07 09:54:46 -0700</td>\n",
       "      <td>629697199312482304</td>\n",
       "      <td>NaN</td>\n",
       "      <td>NaN</td>\n",
       "    </tr>\n",
       "    <tr>\n",
       "      <th>4</th>\n",
       "      <td>4</td>\n",
       "      <td>No candidate mentioned</td>\n",
       "      <td>1.0</td>\n",
       "      <td>yes</td>\n",
       "      <td>1.0</td>\n",
       "      <td>Positive</td>\n",
       "      <td>1.0</td>\n",
       "      <td>None of the above</td>\n",
       "      <td>0.7039</td>\n",
       "      <td>NaN</td>\n",
       "      <td>...</td>\n",
       "      <td>NaN</td>\n",
       "      <td>138</td>\n",
       "      <td>NaN</td>\n",
       "      <td>NaN</td>\n",
       "      <td>RT @RobGeorge: That Carly Fiorina is trending ...</td>\n",
       "      <td>NaN</td>\n",
       "      <td>2015-08-07 09:54:45 -0700</td>\n",
       "      <td>629697197118861312</td>\n",
       "      <td>Texas</td>\n",
       "      <td>Central Time (US &amp; Canada)</td>\n",
       "    </tr>\n",
       "  </tbody>\n",
       "</table>\n",
       "<p>5 rows × 21 columns</p>\n",
       "</div>"
      ],
      "text/plain": [
       "   id               candidate  candidate_confidence  relevant_yn  \\\n",
       "0  id               candidate  candidate_confidence  relevant_yn   \n",
       "1   1  No candidate mentioned                   1.0          yes   \n",
       "2   2            Scott Walker                   1.0          yes   \n",
       "3   3  No candidate mentioned                   1.0          yes   \n",
       "4   4  No candidate mentioned                   1.0          yes   \n",
       "\n",
       "   relevant_yn_confidence  sentiment  sentiment_confidence     subject_matter  \\\n",
       "0  relevant_yn_confidence  sentiment  sentiment_confidence     subject_matter   \n",
       "1                     1.0    Neutral                0.6578  None of the above   \n",
       "2                     1.0   Positive                0.6333  None of the above   \n",
       "3                     1.0    Neutral                0.6629  None of the above   \n",
       "4                     1.0   Positive                   1.0  None of the above   \n",
       "\n",
       "   subject_matter_confidence  candidate_gold             ...              \\\n",
       "0  subject_matter_confidence  candidate_gold             ...               \n",
       "1                        1.0             NaN             ...               \n",
       "2                        1.0             NaN             ...               \n",
       "3                     0.6629             NaN             ...               \n",
       "4                     0.7039             NaN             ...               \n",
       "\n",
       "   relevant_yn_gold  retweet_count  sentiment_gold  subject_matter_gold  \\\n",
       "0  relevant_yn_gold  retweet_count  sentiment_gold  subject_matter_gold   \n",
       "1               NaN              5             NaN                  NaN   \n",
       "2               NaN             26             NaN                  NaN   \n",
       "3               NaN             27             NaN                  NaN   \n",
       "4               NaN            138             NaN                  NaN   \n",
       "\n",
       "                                                text  tweet_coord  \\\n",
       "0                                               text  tweet_coord   \n",
       "1  RT @NancyLeeGrahn: How did everyone feel about...          NaN   \n",
       "2  RT @ScottWalker: Didn't catch the full #GOPdeb...          NaN   \n",
       "3  RT @TJMShow: No mention of Tamir Rice and the ...          NaN   \n",
       "4  RT @RobGeorge: That Carly Fiorina is trending ...          NaN   \n",
       "\n",
       "               tweet_created            tweet_id  tweet_location  \\\n",
       "0              tweet_created            tweet_id  tweet_location   \n",
       "1  2015-08-07 09:54:46 -0700  629697200650592256             NaN   \n",
       "2  2015-08-07 09:54:46 -0700  629697199560069120             NaN   \n",
       "3  2015-08-07 09:54:46 -0700  629697199312482304             NaN   \n",
       "4  2015-08-07 09:54:45 -0700  629697197118861312           Texas   \n",
       "\n",
       "                user_timezone  \n",
       "0               user_timezone  \n",
       "1                       Quito  \n",
       "2                         NaN  \n",
       "3                         NaN  \n",
       "4  Central Time (US & Canada)  \n",
       "\n",
       "[5 rows x 21 columns]"
      ]
     },
     "execution_count": 5,
     "metadata": {},
     "output_type": "execute_result"
    }
   ],
   "source": [
    "df.head()"
   ]
  },
  {
   "cell_type": "code",
   "execution_count": 6,
   "metadata": {},
   "outputs": [
    {
     "name": "stdout",
     "output_type": "stream",
     "text": [
      "<class 'pandas.core.frame.DataFrame'>\n",
      "RangeIndex: 13872 entries, 0 to 13871\n",
      "Data columns (total 21 columns):\n",
      "id                           13872 non-null object\n",
      "candidate                    13776 non-null object\n",
      "candidate_confidence         13872 non-null object\n",
      "relevant_yn                  13872 non-null object\n",
      "relevant_yn_confidence       13872 non-null object\n",
      "sentiment                    13872 non-null object\n",
      "sentiment_confidence         13872 non-null object\n",
      "subject_matter               13546 non-null object\n",
      "subject_matter_confidence    13872 non-null object\n",
      "candidate_gold               29 non-null object\n",
      "name                         13872 non-null object\n",
      "relevant_yn_gold             33 non-null object\n",
      "retweet_count                13872 non-null object\n",
      "sentiment_gold               16 non-null object\n",
      "subject_matter_gold          19 non-null object\n",
      "text                         13872 non-null object\n",
      "tweet_coord                  22 non-null object\n",
      "tweet_created                13872 non-null object\n",
      "tweet_id                     13872 non-null object\n",
      "tweet_location               9960 non-null object\n",
      "user_timezone                9469 non-null object\n",
      "dtypes: object(21)\n",
      "memory usage: 2.2+ MB\n"
     ]
    }
   ],
   "source": [
    "df.info()"
   ]
  },
  {
   "cell_type": "code",
   "execution_count": 7,
   "metadata": {},
   "outputs": [
    {
     "data": {
      "text/plain": [
       "Negative     8493\n",
       "Neutral      3142\n",
       "Positive     2236\n",
       "sentiment       1\n",
       "Name: sentiment, dtype: int64"
      ]
     },
     "execution_count": 7,
     "metadata": {},
     "output_type": "execute_result"
    }
   ],
   "source": [
    "df.sentiment.value_counts()"
   ]
  },
  {
   "cell_type": "code",
   "execution_count": 8,
   "metadata": {},
   "outputs": [],
   "source": [
    "df.drop(['id','candidate','candidate_confidence','relevant_yn','relevant_yn_confidence','sentiment_confidence','subject_matter','subject_matter_confidence','candidate_gold','name','relevant_yn_gold','retweet_count','sentiment_gold','subject_matter_gold','tweet_coord','tweet_created','tweet_id','tweet_location','user_timezone'],axis=1,inplace=True)"
   ]
  },
  {
   "cell_type": "code",
   "execution_count": 9,
   "metadata": {},
   "outputs": [],
   "source": [
    "df['pre_clean_len'] = [len(t) for t in df.text]"
   ]
  },
  {
   "cell_type": "code",
   "execution_count": 10,
   "metadata": {},
   "outputs": [
    {
     "data": {
      "text/html": [
       "<div>\n",
       "<style scoped>\n",
       "    .dataframe tbody tr th:only-of-type {\n",
       "        vertical-align: middle;\n",
       "    }\n",
       "\n",
       "    .dataframe tbody tr th {\n",
       "        vertical-align: top;\n",
       "    }\n",
       "\n",
       "    .dataframe thead th {\n",
       "        text-align: right;\n",
       "    }\n",
       "</style>\n",
       "<table border=\"1\" class=\"dataframe\">\n",
       "  <thead>\n",
       "    <tr style=\"text-align: right;\">\n",
       "      <th></th>\n",
       "      <th>sentiment</th>\n",
       "      <th>text</th>\n",
       "      <th>pre_clean_len</th>\n",
       "    </tr>\n",
       "  </thead>\n",
       "  <tbody>\n",
       "    <tr>\n",
       "      <th>36</th>\n",
       "      <td>Negative</td>\n",
       "      <td>RT @AmyMek: The Torched has been passed -&amp;gt;....</td>\n",
       "      <td>143</td>\n",
       "    </tr>\n",
       "    <tr>\n",
       "      <th>53</th>\n",
       "      <td>Negative</td>\n",
       "      <td>RT @STYLEMOM: Here's a question, WHY in the he...</td>\n",
       "      <td>144</td>\n",
       "    </tr>\n",
       "    <tr>\n",
       "      <th>62</th>\n",
       "      <td>Negative</td>\n",
       "      <td>RT @AmyMek: Status 👉 Single \\n\\nI broke up wit...</td>\n",
       "      <td>144</td>\n",
       "    </tr>\n",
       "    <tr>\n",
       "      <th>71</th>\n",
       "      <td>Negative</td>\n",
       "      <td>Fox News Had Its Own #GOPDebate Agenda: Promot...</td>\n",
       "      <td>143</td>\n",
       "    </tr>\n",
       "    <tr>\n",
       "      <th>95</th>\n",
       "      <td>Negative</td>\n",
       "      <td>RT @KateThomas: This literally couldn't be mor...</td>\n",
       "      <td>144</td>\n",
       "    </tr>\n",
       "    <tr>\n",
       "      <th>101</th>\n",
       "      <td>Neutral</td>\n",
       "      <td>RT @akbarjenkins: Maybe the GOP just got Piven...</td>\n",
       "      <td>148</td>\n",
       "    </tr>\n",
       "    <tr>\n",
       "      <th>126</th>\n",
       "      <td>Negative</td>\n",
       "      <td>RT @AmyMek: We all owe @realDonaldTrump a huge...</td>\n",
       "      <td>144</td>\n",
       "    </tr>\n",
       "    <tr>\n",
       "      <th>141</th>\n",
       "      <td>Negative</td>\n",
       "      <td>RT @VH1: Honestly, Donald Trump you were ALL t...</td>\n",
       "      <td>141</td>\n",
       "    </tr>\n",
       "    <tr>\n",
       "      <th>143</th>\n",
       "      <td>Negative</td>\n",
       "      <td>Trump gloating abt buying GOP+Dem pols &amp;amp;th...</td>\n",
       "      <td>144</td>\n",
       "    </tr>\n",
       "    <tr>\n",
       "      <th>203</th>\n",
       "      <td>Negative</td>\n",
       "      <td>This literally couldn't be more true for me. \"...</td>\n",
       "      <td>143</td>\n",
       "    </tr>\n",
       "  </tbody>\n",
       "</table>\n",
       "</div>"
      ],
      "text/plain": [
       "    sentiment                                               text  \\\n",
       "36   Negative  RT @AmyMek: The Torched has been passed -&gt;....   \n",
       "53   Negative  RT @STYLEMOM: Here's a question, WHY in the he...   \n",
       "62   Negative  RT @AmyMek: Status 👉 Single \\n\\nI broke up wit...   \n",
       "71   Negative  Fox News Had Its Own #GOPDebate Agenda: Promot...   \n",
       "95   Negative  RT @KateThomas: This literally couldn't be mor...   \n",
       "101   Neutral  RT @akbarjenkins: Maybe the GOP just got Piven...   \n",
       "126  Negative  RT @AmyMek: We all owe @realDonaldTrump a huge...   \n",
       "141  Negative  RT @VH1: Honestly, Donald Trump you were ALL t...   \n",
       "143  Negative  Trump gloating abt buying GOP+Dem pols &amp;th...   \n",
       "203  Negative  This literally couldn't be more true for me. \"...   \n",
       "\n",
       "     pre_clean_len  \n",
       "36             143  \n",
       "53             144  \n",
       "62             144  \n",
       "71             143  \n",
       "95             144  \n",
       "101            148  \n",
       "126            144  \n",
       "141            141  \n",
       "143            144  \n",
       "203            143  "
      ]
     },
     "execution_count": 10,
     "metadata": {},
     "output_type": "execute_result"
    }
   ],
   "source": [
    "df[df.pre_clean_len > 140].head(10)"
   ]
  },
  {
   "cell_type": "code",
   "execution_count": 11,
   "metadata": {},
   "outputs": [
    {
     "data": {
      "text/plain": [
       "'RT @AmyMek: The Torched has been passed -&gt;.@CandyCrowley is no longer the most Famous Political Assassin! Congratulations @megynkelly, U Wi…'"
      ]
     },
     "execution_count": 11,
     "metadata": {},
     "output_type": "execute_result"
    }
   ],
   "source": [
    "df.text[36]"
   ]
  },
  {
   "cell_type": "code",
   "execution_count": 12,
   "metadata": {},
   "outputs": [
    {
     "name": "stdout",
     "output_type": "stream",
     "text": [
      "RT @AmyMek: The Torched has been passed ->.@CandyCrowley is no longer the most Famous Political Assassin! Congratulations @megynkelly, U Wi…\n"
     ]
    }
   ],
   "source": [
    "from bs4 import BeautifulSoup\n",
    "example1 = BeautifulSoup(df.text[36], 'lxml')\n",
    "print(example1.get_text())"
   ]
  },
  {
   "cell_type": "code",
   "execution_count": 13,
   "metadata": {},
   "outputs": [],
   "source": [
    "pat1 = r'@[A-Za-z0-9]+'\n",
    "pat2 = r'https?://[A-Za-z0-9./]+'\n",
    "combined_pat = r'|'.join((pat1, pat2))\n",
    "\n",
    "def tweet_cleaner(text):\n",
    "    soup = BeautifulSoup(text, 'lxml')\n",
    "    souped = soup.get_text()\n",
    "    stripped = re.sub(combined_pat, '', souped)\n",
    "    try:\n",
    "        clean = stripped.decode(\"utf-8-sig\").replace(u\"\\ufffd\", \"?\")\n",
    "    except:\n",
    "        clean = stripped\n",
    "    letters_only = re.sub(\"[^a-zA-Z]\", \" \", clean)\n",
    "    lower_case = letters_only.lower()\n",
    "    # During the letters_only process two lines above, it has created unnecessay white spaces,\n",
    "    # I will tokenize and join together to remove unneccessary white spaces\n",
    "    words = tok.tokenize(lower_case)\n",
    "    return (\" \".join(words)).strip()"
   ]
  },
  {
   "cell_type": "code",
   "execution_count": 14,
   "metadata": {},
   "outputs": [],
   "source": [
    "from nltk.tokenize import WordPunctTokenizer\n",
    "tok = WordPunctTokenizer()"
   ]
  },
  {
   "cell_type": "code",
   "execution_count": 15,
   "metadata": {},
   "outputs": [
    {
     "name": "stdout",
     "output_type": "stream",
     "text": [
      "Cleaning and parsing the tweets...\n",
      "\n",
      "Tweets 1000 of 13872 has been processed\n",
      "Tweets 2000 of 13872 has been processed\n",
      "Tweets 3000 of 13872 has been processed\n",
      "Tweets 4000 of 13872 has been processed\n",
      "Tweets 5000 of 13872 has been processed\n",
      "Tweets 6000 of 13872 has been processed\n",
      "Tweets 7000 of 13872 has been processed\n",
      "Tweets 8000 of 13872 has been processed\n",
      "Tweets 9000 of 13872 has been processed\n",
      "Tweets 10000 of 13872 has been processed\n",
      "Tweets 11000 of 13872 has been processed\n",
      "Tweets 12000 of 13872 has been processed\n",
      "Tweets 13000 of 13872 has been processed\n",
      "CPU times: user 6.17 s, sys: 321 ms, total: 6.49 s\n",
      "Wall time: 6.54 s\n"
     ]
    }
   ],
   "source": [
    "%%time\n",
    "print(\"Cleaning and parsing the tweets...\\n\")\n",
    "clean_tweet_texts = []\n",
    "for i in range(0,13872):\n",
    "    if( (i+1)%1000 == 0 ):\n",
    "        print(\"Tweets %d of %d has been processed\" % ( i+1, 13872 ))                                                                   \n",
    "    clean_tweet_texts.append(tweet_cleaner(df['text'][i]))"
   ]
  },
  {
   "cell_type": "code",
   "execution_count": 16,
   "metadata": {},
   "outputs": [
    {
     "data": {
      "text/plain": [
       "13872"
      ]
     },
     "execution_count": 16,
     "metadata": {},
     "output_type": "execute_result"
    }
   ],
   "source": [
    "len(clean_tweet_texts)"
   ]
  },
  {
   "cell_type": "code",
   "execution_count": 17,
   "metadata": {},
   "outputs": [
    {
     "data": {
      "text/html": [
       "<div>\n",
       "<style scoped>\n",
       "    .dataframe tbody tr th:only-of-type {\n",
       "        vertical-align: middle;\n",
       "    }\n",
       "\n",
       "    .dataframe tbody tr th {\n",
       "        vertical-align: top;\n",
       "    }\n",
       "\n",
       "    .dataframe thead th {\n",
       "        text-align: right;\n",
       "    }\n",
       "</style>\n",
       "<table border=\"1\" class=\"dataframe\">\n",
       "  <thead>\n",
       "    <tr style=\"text-align: right;\">\n",
       "      <th></th>\n",
       "      <th>sentiment</th>\n",
       "      <th>text</th>\n",
       "      <th>pre_clean_len</th>\n",
       "    </tr>\n",
       "  </thead>\n",
       "  <tbody>\n",
       "    <tr>\n",
       "      <th>0</th>\n",
       "      <td>sentiment</td>\n",
       "      <td>text</td>\n",
       "      <td>4</td>\n",
       "    </tr>\n",
       "    <tr>\n",
       "      <th>1</th>\n",
       "      <td>Neutral</td>\n",
       "      <td>RT @NancyLeeGrahn: How did everyone feel about...</td>\n",
       "      <td>106</td>\n",
       "    </tr>\n",
       "    <tr>\n",
       "      <th>2</th>\n",
       "      <td>Positive</td>\n",
       "      <td>RT @ScottWalker: Didn't catch the full #GOPdeb...</td>\n",
       "      <td>140</td>\n",
       "    </tr>\n",
       "    <tr>\n",
       "      <th>3</th>\n",
       "      <td>Neutral</td>\n",
       "      <td>RT @TJMShow: No mention of Tamir Rice and the ...</td>\n",
       "      <td>84</td>\n",
       "    </tr>\n",
       "    <tr>\n",
       "      <th>4</th>\n",
       "      <td>Positive</td>\n",
       "      <td>RT @RobGeorge: That Carly Fiorina is trending ...</td>\n",
       "      <td>140</td>\n",
       "    </tr>\n",
       "  </tbody>\n",
       "</table>\n",
       "</div>"
      ],
      "text/plain": [
       "   sentiment                                               text  pre_clean_len\n",
       "0  sentiment                                               text              4\n",
       "1    Neutral  RT @NancyLeeGrahn: How did everyone feel about...            106\n",
       "2   Positive  RT @ScottWalker: Didn't catch the full #GOPdeb...            140\n",
       "3    Neutral  RT @TJMShow: No mention of Tamir Rice and the ...             84\n",
       "4   Positive  RT @RobGeorge: That Carly Fiorina is trending ...            140"
      ]
     },
     "execution_count": 17,
     "metadata": {},
     "output_type": "execute_result"
    }
   ],
   "source": [
    "df.head()"
   ]
  },
  {
   "cell_type": "code",
   "execution_count": 18,
   "metadata": {},
   "outputs": [
    {
     "data": {
      "text/html": [
       "<div>\n",
       "<style scoped>\n",
       "    .dataframe tbody tr th:only-of-type {\n",
       "        vertical-align: middle;\n",
       "    }\n",
       "\n",
       "    .dataframe tbody tr th {\n",
       "        vertical-align: top;\n",
       "    }\n",
       "\n",
       "    .dataframe thead th {\n",
       "        text-align: right;\n",
       "    }\n",
       "</style>\n",
       "<table border=\"1\" class=\"dataframe\">\n",
       "  <thead>\n",
       "    <tr style=\"text-align: right;\">\n",
       "      <th></th>\n",
       "      <th>text</th>\n",
       "      <th>sentiment</th>\n",
       "    </tr>\n",
       "  </thead>\n",
       "  <tbody>\n",
       "    <tr>\n",
       "      <th>0</th>\n",
       "      <td>text</td>\n",
       "      <td>sentiment</td>\n",
       "    </tr>\n",
       "    <tr>\n",
       "      <th>1</th>\n",
       "      <td>rt how did everyone feel about the climate cha...</td>\n",
       "      <td>Neutral</td>\n",
       "    </tr>\n",
       "    <tr>\n",
       "      <th>2</th>\n",
       "      <td>rt didn t catch the full gopdebate last night ...</td>\n",
       "      <td>Positive</td>\n",
       "    </tr>\n",
       "    <tr>\n",
       "      <th>3</th>\n",
       "      <td>rt no mention of tamir rice and the gopdebate ...</td>\n",
       "      <td>Neutral</td>\n",
       "    </tr>\n",
       "    <tr>\n",
       "      <th>4</th>\n",
       "      <td>rt that carly fiorina is trending hours after ...</td>\n",
       "      <td>Positive</td>\n",
       "    </tr>\n",
       "  </tbody>\n",
       "</table>\n",
       "</div>"
      ],
      "text/plain": [
       "                                                text  sentiment\n",
       "0                                               text  sentiment\n",
       "1  rt how did everyone feel about the climate cha...    Neutral\n",
       "2  rt didn t catch the full gopdebate last night ...   Positive\n",
       "3  rt no mention of tamir rice and the gopdebate ...    Neutral\n",
       "4  rt that carly fiorina is trending hours after ...   Positive"
      ]
     },
     "execution_count": 18,
     "metadata": {},
     "output_type": "execute_result"
    }
   ],
   "source": [
    "clean_df = pd.DataFrame(clean_tweet_texts,columns=['text'])\n",
    "clean_df['sentiment'] = df.sentiment\n",
    "clean_df.head()"
   ]
  },
  {
   "cell_type": "code",
   "execution_count": 19,
   "metadata": {},
   "outputs": [],
   "source": [
    "clean_df.to_csv('clean_tweet_kaggle.csv',encoding='utf-8')"
   ]
  },
  {
   "cell_type": "code",
   "execution_count": 20,
   "metadata": {},
   "outputs": [
    {
     "ename": "SyntaxError",
     "evalue": "invalid syntax (<ipython-input-20-9fe79c01f6a4>, line 1)",
     "output_type": "error",
     "traceback": [
      "\u001b[0;36m  File \u001b[0;32m\"<ipython-input-20-9fe79c01f6a4>\"\u001b[0;36m, line \u001b[0;32m1\u001b[0m\n\u001b[0;31m    10000 positive\u001b[0m\n\u001b[0m                 ^\u001b[0m\n\u001b[0;31mSyntaxError\u001b[0m\u001b[0;31m:\u001b[0m invalid syntax\n"
     ]
    }
   ],
   "source": [
    "10000 positive\n",
    "4000 negative"
   ]
  },
  {
   "cell_type": "code",
   "execution_count": null,
   "metadata": {},
   "outputs": [],
   "source": []
  }
 ],
 "metadata": {
  "kernelspec": {
   "display_name": "Python 3",
   "language": "python",
   "name": "python3"
  },
  "language_info": {
   "codemirror_mode": {
    "name": "ipython",
    "version": 3
   },
   "file_extension": ".py",
   "mimetype": "text/x-python",
   "name": "python",
   "nbconvert_exporter": "python",
   "pygments_lexer": "ipython3",
   "version": "3.6.2"
  }
 },
 "nbformat": 4,
 "nbformat_minor": 2
}
